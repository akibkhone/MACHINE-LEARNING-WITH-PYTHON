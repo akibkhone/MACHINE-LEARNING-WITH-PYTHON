{
 "cells": [
  {
   "cell_type": "markdown",
   "metadata": {},
   "source": [
    "## WHAT IS MACHINE LEARNING?\n",
    "\n",
    "- Machine learning is the subfield of computer science that gives \"computers the ability to learn without being explicitly programmed.\""
   ]
  },
  {
   "cell_type": "markdown",
   "metadata": {},
   "source": [
    "### MAJOR MACHINE LEARNING TECHNIQUES :\n",
    "\n",
    "\n",
    "#### 1. REGRESSION / ESTIMATION - Use for Predicting continous values \n",
    "      \n",
    "      Examples :\n",
    "\n",
    "                  1. Predicting price of a house based on its characteristics.\n",
    "                  2. To estimate the CO2 emission from a car's engine.\n",
    "                            \n",
    "#### 2. CLASSIFICATION - Use for Predicting the item class/category of a class.\n",
    "\n",
    "      Examples :\n",
    "\n",
    "                  1.  Predict whether a cell is benign ( not harmfull ) or malignant ( very harmfull ).\n",
    "                  2.  Whether or not a customer will churn(shake).\n",
    "\n",
    "#### 3. CLUSTERING - Use for finding structure of data; summarization\n",
    "\n",
    "       Examples :\n",
    "\n",
    "                  1. To find similar similar patient\n",
    "                  2. Can be used for customer segmentation in the banking field\n",
    "                  3. Grouping of similar cases in a dataset\n",
    "\n",
    "#### 4. ASSOCIATION - Use for Associating frequent co-occuring items/events\n",
    "\n",
    "       Examples :\n",
    "\n",
    "                  1. Grocery items that are usually bought together by a particular customer. \n",
    "                  \n",
    "#### 5. ANOMALY DETECTION - Use to discover abnormal and unusual cases\n",
    "\n",
    "       Examples :\n",
    "\n",
    "                  1. Use for credit card fraud detection.\n",
    "                  \n",
    "#### 6. SEQUENCE MINING - Use for predicting Next Events; click-stream ( Markov Model, HMM)\n",
    "\n",
    "       Examples :\n",
    "\n",
    "                  1. the click-stream in websites.\n",
    "\n",
    "#### 7. DIMENSION REDUCTION - Use to Reduce the size of data (PCA)\n",
    "\n",
    "    \n",
    "                  \n",
    "#### 8. RECOMMENDATION SYSTEM  - Use for Recommending items.\n",
    "\n",
    "       Examples :\n",
    "\n",
    "                  1. Detect peoples preferences and recommend new items to them, like Youtube recommendation,etc                  "
   ]
  },
  {
   "cell_type": "markdown",
   "metadata": {},
   "source": [
    "###  DIFFERENCE BETWEEN - AI , ML AND DL\n",
    "\n",
    "#### ARTIFICIAL INTELLIGENCE : ( Teaching the computer to learn )\n",
    "- Computer Vision\n",
    "- Language Processing\n",
    "- Creativity\n",
    "- Etc\n",
    "\n",
    "#### MACHINE LEARNING  : ( Statistical part of the AI where it's get trained  )\n",
    "- Classification \n",
    "- Clustering\n",
    "- Neural Network\n",
    "- Etc\n",
    "\n",
    "#### DEEP LEARNING  : ( Computer can learn and take decision on their own )\n",
    "- Revolution of ML\n",
    "- Etc"
   ]
  },
  {
   "cell_type": "markdown",
   "metadata": {},
   "source": [
    "### PYTHON LIBRARIES FOR MACHINE LEARNING -\n",
    "\n",
    "##### 1. NUMPY\n",
    "\n",
    "- A math library to work with N-dimensional arrays in python.\n",
    "- Enables you to do computation efficiently and effectively.\n",
    "- For ex- working with arrays, dictionary, functions, datatypes and images.\n",
    "\n",
    "##### 2. SCIPY \n",
    "\n",
    "- SciPy is a collection of numerical algorithms and domain specific toolboxes\n",
    "- Including Signal processing, optimization, statistics and much more.\n",
    "- Good library for scientific and high performance computation.\n",
    "\n",
    "##### 3. MATPLOTLIB\n",
    "\n",
    "- Matplotlib is a very popular plotting package that provides 2-D plotting as well as 3-D plotting.\n",
    "\n",
    "##### 4. PANDAS\n",
    "\n",
    "- Pandas provides high performance easy to use data structures.\n",
    "- Including functions for data importing, manipulation and analysis.\n",
    "- It offers data structure operations for manipulating numerical tables and timeseries.\n",
    "\n",
    "##### 5. SCIKIT LEARN\n",
    "\n",
    "- SciKit learn is a collection of algorithms and tools for machine learning.\n",
    "- Free software machine learning.\n",
    "- Includes Classification, Regression and Clustering algorithms.\n",
    "- Works with Numoy And Scipy\n",
    "- Great documentation\n",
    "- Easy to implement with few lines of python code\n",
    "\n"
   ]
  },
  {
   "cell_type": "markdown",
   "metadata": {},
   "source": [
    "#### SCIKIT LEARN FUNCTIONS:"
   ]
  },
  {
   "cell_type": "code",
   "execution_count": 1,
   "metadata": {
    "collapsed": true
   },
   "outputs": [
    {
     "name": "stdout",
     "output_type": "stream",
     "text": [
      "Requirement already satisfied: sklearn in c:\\users\\hp\\anaconda3\\lib\\site-packages (0.0)\n",
      "Requirement already satisfied: scikit-learn in c:\\users\\hp\\anaconda3\\lib\\site-packages (from sklearn) (0.23.2)\n",
      "Requirement already satisfied: scipy>=0.19.1 in c:\\users\\hp\\anaconda3\\lib\\site-packages (from scikit-learn->sklearn) (1.7.1)\n",
      "Requirement already satisfied: threadpoolctl>=2.0.0 in c:\\users\\hp\\anaconda3\\lib\\site-packages (from scikit-learn->sklearn) (2.2.0)\n",
      "Requirement already satisfied: numpy>=1.13.3 in c:\\users\\hp\\anaconda3\\lib\\site-packages (from scikit-learn->sklearn) (1.21.2)\n",
      "Requirement already satisfied: joblib>=0.11 in c:\\users\\hp\\anaconda3\\lib\\site-packages (from scikit-learn->sklearn) (0.17.0)\n",
      "Note: you may need to restart the kernel to use updated packages.\n"
     ]
    },
    {
     "name": "stderr",
     "output_type": "stream",
     "text": [
      "WARNING: Ignoring invalid distribution -illow (c:\\users\\hp\\anaconda3\\lib\\site-packages)\n",
      "WARNING: Ignoring invalid distribution -illow (c:\\users\\hp\\anaconda3\\lib\\site-packages)\n",
      "WARNING: Ignoring invalid distribution -illow (c:\\users\\hp\\anaconda3\\lib\\site-packages)\n",
      "WARNING: Ignoring invalid distribution -illow (c:\\users\\hp\\anaconda3\\lib\\site-packages)\n",
      "WARNING: Ignoring invalid distribution -illow (c:\\users\\hp\\anaconda3\\lib\\site-packages)\n"
     ]
    }
   ],
   "source": [
    "pip install sklearn"
   ]
  },
  {
   "cell_type": "code",
   "execution_count": null,
   "metadata": {},
   "outputs": [],
   "source": [
    "from sklearn import preprocessing \n",
    "\n",
    "X = preprocessing.StandardScaler().fit(X).transform(X)"
   ]
  },
  {
   "cell_type": "code",
   "execution_count": null,
   "metadata": {},
   "outputs": [],
   "source": [
    "from sklearn.model_selection import train_test_split\n",
    "\n",
    "X_train, X_test, Y_train, Y_test = train_test_split(X,Y, test_size = 0.33)"
   ]
  },
  {
   "cell_type": "code",
   "execution_count": null,
   "metadata": {},
   "outputs": [],
   "source": [
    "from sklearn import svm\n",
    "\n",
    "clf = svm.SVC(gamma = 0.001,  C = 100. )"
   ]
  },
  {
   "cell_type": "code",
   "execution_count": null,
   "metadata": {},
   "outputs": [],
   "source": [
    "clf.fit(X_train, Y_train)"
   ]
  },
  {
   "cell_type": "code",
   "execution_count": null,
   "metadata": {},
   "outputs": [],
   "source": [
    "clf.predict(X_test)"
   ]
  },
  {
   "cell_type": "code",
   "execution_count": null,
   "metadata": {},
   "outputs": [],
   "source": [
    "from sklearn.metrics import confusion_matrix\n",
    "\n",
    "print(confusion_matrix(Y_test, Yhat , labels = [0,1]))"
   ]
  },
  {
   "cell_type": "code",
   "execution_count": null,
   "metadata": {},
   "outputs": [],
   "source": [
    "import pickle\n",
    "\n",
    "s = pickle.dumps(clf)"
   ]
  }
 ],
 "metadata": {
  "kernelspec": {
   "display_name": "Python 3",
   "language": "python",
   "name": "python3"
  },
  "language_info": {
   "codemirror_mode": {
    "name": "ipython",
    "version": 3
   },
   "file_extension": ".py",
   "mimetype": "text/x-python",
   "name": "python",
   "nbconvert_exporter": "python",
   "pygments_lexer": "ipython3",
   "version": "3.8.5"
  }
 },
 "nbformat": 4,
 "nbformat_minor": 4
}
